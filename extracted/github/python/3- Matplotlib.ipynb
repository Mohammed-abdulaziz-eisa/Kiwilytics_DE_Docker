{
 "cells": [
  {
   "cell_type": "markdown",
   "id": "4639c121",
   "metadata": {},
   "source": [
    "## Matplotlib"
   ]
  },
  {
   "cell_type": "markdown",
   "id": "ea11b249",
   "metadata": {},
   "source": [
    "### Plot a Single graph"
   ]
  },
  {
   "cell_type": "code",
   "execution_count": null,
   "id": "566b96dd",
   "metadata": {},
   "outputs": [],
   "source": [
    "#Import\n",
    "from matplotlib import pyplot as plt\n",
    "import numpy as np\n",
    "\n",
    "# Simple data\n",
    "x = [10, 11, 12, 13, 14, 15, 16]\n",
    "y = [100, 170, 200, 270, 300, 370, 400]\n",
    "\n",
    "# Basic line plot\n",
    "plt.plot(x,y)\n",
    "plt.title('Graph One')\n",
    "plt.xlabel('Size (m2)')\n",
    "plt.ylabel('Price ($)')\n",
    "plt.show()\n"
   ]
  },
  {
   "cell_type": "markdown",
   "id": "d4a06e81",
   "metadata": {},
   "source": [
    "### Plot 2 Graphs on a Chart"
   ]
  },
  {
   "cell_type": "code",
   "execution_count": null,
   "id": "14ff9448",
   "metadata": {},
   "outputs": [],
   "source": [
    "A = [10, 11, 12, 13, 14, 15, 16]\n",
    "B1 = [100, 170, 200, 270, 300, 370, 400]\n",
    "B2 = [90, 110, 130, 150, 170, 190, 210]\n",
    "\n",
    "#Explicit legend\n",
    "plt.plot(A, B1)\n",
    "plt.plot(A, B2)\n",
    "plt.xlabel('Size (m2)')\n",
    "plt.ylabel('Price ($)')\n",
    "plt.title('Graph Two')\n",
    "plt.legend(['Data 1', 'Data 2'])\n"
   ]
  },
  {
   "cell_type": "markdown",
   "id": "739c0426",
   "metadata": {},
   "source": [
    "### Styling with Colors, Linestyles, Markers"
   ]
  },
  {
   "cell_type": "code",
   "execution_count": null,
   "id": "365872b3",
   "metadata": {},
   "outputs": [],
   "source": [
    "plt.plot(A, B1, color='red', linestyle='-.', marker='.', label='Data 1')\n",
    "plt.plot(A, B2, color='green', linestyle='--', marker='o', label='Data 2')\n",
    "plt.title('Styled Graph')\n",
    "plt.xlabel('X axis')\n",
    "plt.ylabel('Y axis')\n",
    "plt.legend()\n",
    "plt.show()"
   ]
  },
  {
   "cell_type": "markdown",
   "id": "d6e64d40",
   "metadata": {},
   "source": [
    "### Line Width, Grid, and Advanced Styling"
   ]
  },
  {
   "cell_type": "code",
   "execution_count": null,
   "id": "db6a65ef",
   "metadata": {},
   "outputs": [],
   "source": [
    "plt.plot(A, B1, color='y', linestyle=':', marker='x', linewidth=2, label='Data 1')\n",
    "plt.plot(A, B2, color='k', linestyle='--', marker='o', linewidth=3, label='Data 2')\n",
    "plt.title('Advanced Styling')\n",
    "plt.xlabel('X axis')\n",
    "plt.ylabel('Y axis')\n",
    "plt.legend()\n",
    "plt.grid(True)\n",
    "plt.show()"
   ]
  },
  {
   "cell_type": "markdown",
   "id": "4a92a547",
   "metadata": {},
   "source": [
    "### Exploring Styles + Available Themes"
   ]
  },
  {
   "cell_type": "code",
   "execution_count": null,
   "id": "71a24e09",
   "metadata": {},
   "outputs": [],
   "source": [
    "# Show available styles\n",
    "print(plt.style.available)\n",
    "\n",
    "# Use one\n",
    "plt.style.use('ggplot')\n",
    "\n",
    "# Re-plot with style\n",
    "plt.plot(A, B1, label='Data 1')\n",
    "plt.plot(A, B2, label='Data 2')\n",
    "plt.title('Styled with ggplot')\n",
    "plt.xlabel('X axis')\n",
    "plt.ylabel('Y axis')\n",
    "plt.legend()\n",
    "plt.show()"
   ]
  },
  {
   "cell_type": "markdown",
   "id": "36fb854a",
   "metadata": {},
   "source": [
    "## 📊 Real-World Data Visualization Task (with Matplotlib)"
   ]
  },
  {
   "cell_type": "markdown",
   "id": "510fa734",
   "metadata": {},
   "source": [
    "🎯 Problem Statement: Visualizing Cleaned Order Data\n",
    "\n",
    "Now that you've cleaned and transformed the messy orders dataset, your next task as a Data Engineer is to help the analytics and business teams see the story behind the data. Visualization is a critical step for turning raw numbers into actionable insights.\n",
    "\n",
    "In this exercise, you’ll use Matplotlib to create visuals that communicate patterns and trends in the cleaned orders data — making it easier for stakeholders to understand operational performance, customer behavior, and shipping reliability."
   ]
  },
  {
   "cell_type": "markdown",
   "id": "ad185efa",
   "metadata": {},
   "source": [
    "📄 About the Dataset: cleaned_orders_final.csv\n",
    "\n",
    "This dataset is the cleaned version of a raw eCommerce order file. It contains important information about each order such as:\n",
    "\n",
    "Order and shipping dates\n",
    "\n",
    "Shipping costs\n",
    "\n",
    "Country and city of delivery\n",
    "\n",
    "Delivery status (on-time vs. late)\n",
    "\n",
    "Calculated delivery time in days\n",
    "\n",
    "The data has already been wrangled, deduplicated, and standardized. Now it’s ready for visual storytelling"
   ]
  },
  {
   "cell_type": "markdown",
   "id": "56b36937",
   "metadata": {},
   "source": [
    "💡 Your Objective:\n",
    "\n",
    "By the end of this exercise, you will:\n",
    "\n",
    "Create bar charts, histograms, line plots, and pie charts\n",
    "\n",
    "Visualize shipping costs, delivery delays, and order volume\n",
    "\n",
    "Identify patterns by country, month, and delivery performance\n",
    "\n",
    "Gain a stronger understanding of how data visualization supports business decisions"
   ]
  },
  {
   "cell_type": "markdown",
   "id": "723a276f",
   "metadata": {},
   "source": [
    "## Importing libraries & reading data"
   ]
  },
  {
   "cell_type": "code",
   "execution_count": 1,
   "id": "f87c7af0",
   "metadata": {},
   "outputs": [
    {
     "data": {
      "text/html": [
       "<div>\n",
       "<style scoped>\n",
       "    .dataframe tbody tr th:only-of-type {\n",
       "        vertical-align: middle;\n",
       "    }\n",
       "\n",
       "    .dataframe tbody tr th {\n",
       "        vertical-align: top;\n",
       "    }\n",
       "\n",
       "    .dataframe thead th {\n",
       "        text-align: right;\n",
       "    }\n",
       "</style>\n",
       "<table border=\"1\" class=\"dataframe\">\n",
       "  <thead>\n",
       "    <tr style=\"text-align: right;\">\n",
       "      <th></th>\n",
       "      <th>OrderID</th>\n",
       "      <th>CustomerID</th>\n",
       "      <th>OrderDate</th>\n",
       "      <th>ShippedDate</th>\n",
       "      <th>ShippingCost</th>\n",
       "      <th>ShipCountry</th>\n",
       "      <th>ShipCity</th>\n",
       "      <th>ShippingCompany</th>\n",
       "      <th>DeliveryDays</th>\n",
       "      <th>DeliveryStatus</th>\n",
       "      <th>IsDomestic</th>\n",
       "    </tr>\n",
       "  </thead>\n",
       "  <tbody>\n",
       "    <tr>\n",
       "      <th>0</th>\n",
       "      <td>1000.0</td>\n",
       "      <td>C001</td>\n",
       "      <td>2025-05-17</td>\n",
       "      <td>2025-07-30</td>\n",
       "      <td>234.09</td>\n",
       "      <td>Germany</td>\n",
       "      <td>Hamburg</td>\n",
       "      <td>Kiwilytics Goods Shipping LLC.</td>\n",
       "      <td>74.0</td>\n",
       "      <td>Late</td>\n",
       "      <td>Yes</td>\n",
       "    </tr>\n",
       "    <tr>\n",
       "      <th>1</th>\n",
       "      <td>1001.0</td>\n",
       "      <td>C002</td>\n",
       "      <td>2025-01-26</td>\n",
       "      <td>2025-07-30</td>\n",
       "      <td>320.61</td>\n",
       "      <td>Canada</td>\n",
       "      <td>Montreal</td>\n",
       "      <td>UPS Worldwide</td>\n",
       "      <td>185.0</td>\n",
       "      <td>Late</td>\n",
       "      <td>No</td>\n",
       "    </tr>\n",
       "    <tr>\n",
       "      <th>2</th>\n",
       "      <td>1002.0</td>\n",
       "      <td>C003</td>\n",
       "      <td>2025-03-08</td>\n",
       "      <td>2025-07-30</td>\n",
       "      <td>165.17</td>\n",
       "      <td>Canada</td>\n",
       "      <td>Vancouver</td>\n",
       "      <td>FedEx Logistics</td>\n",
       "      <td>144.0</td>\n",
       "      <td>Late</td>\n",
       "      <td>No</td>\n",
       "    </tr>\n",
       "    <tr>\n",
       "      <th>3</th>\n",
       "      <td>1003.0</td>\n",
       "      <td>C004</td>\n",
       "      <td>2025-03-24</td>\n",
       "      <td>2025-07-30</td>\n",
       "      <td>12.55</td>\n",
       "      <td>Germany</td>\n",
       "      <td>Munich</td>\n",
       "      <td>Aramex International</td>\n",
       "      <td>128.0</td>\n",
       "      <td>Late</td>\n",
       "      <td>Yes</td>\n",
       "    </tr>\n",
       "    <tr>\n",
       "      <th>4</th>\n",
       "      <td>1004.0</td>\n",
       "      <td>C005</td>\n",
       "      <td>2025-04-15</td>\n",
       "      <td>2025-07-30</td>\n",
       "      <td>186.36</td>\n",
       "      <td>Canada</td>\n",
       "      <td>Vancouver</td>\n",
       "      <td>FedEx Logistics</td>\n",
       "      <td>106.0</td>\n",
       "      <td>Late</td>\n",
       "      <td>No</td>\n",
       "    </tr>\n",
       "  </tbody>\n",
       "</table>\n",
       "</div>"
      ],
      "text/plain": [
       "   OrderID CustomerID   OrderDate ShippedDate  ShippingCost ShipCountry  \\\n",
       "0   1000.0       C001  2025-05-17  2025-07-30        234.09     Germany   \n",
       "1   1001.0       C002  2025-01-26  2025-07-30        320.61      Canada   \n",
       "2   1002.0       C003  2025-03-08  2025-07-30        165.17      Canada   \n",
       "3   1003.0       C004  2025-03-24  2025-07-30         12.55     Germany   \n",
       "4   1004.0       C005  2025-04-15  2025-07-30        186.36      Canada   \n",
       "\n",
       "    ShipCity                 ShippingCompany  DeliveryDays DeliveryStatus  \\\n",
       "0    Hamburg  Kiwilytics Goods Shipping LLC.          74.0           Late   \n",
       "1   Montreal                   UPS Worldwide         185.0           Late   \n",
       "2  Vancouver                 FedEx Logistics         144.0           Late   \n",
       "3     Munich            Aramex International         128.0           Late   \n",
       "4  Vancouver                 FedEx Logistics         106.0           Late   \n",
       "\n",
       "  IsDomestic  \n",
       "0        Yes  \n",
       "1         No  \n",
       "2         No  \n",
       "3        Yes  \n",
       "4         No  "
      ]
     },
     "execution_count": 1,
     "metadata": {},
     "output_type": "execute_result"
    }
   ],
   "source": [
    "import pandas as pd\n",
    "import matplotlib.pyplot as plt\n",
    "\n",
    "\n",
    "# Load the cleaned orders data\n",
    "df = pd.read_csv(\"cleaned_orders_final.csv\")\n",
    "\n",
    "df.head()"
   ]
  },
  {
   "cell_type": "code",
   "execution_count": null,
   "id": "3a75a5d2",
   "metadata": {},
   "outputs": [],
   "source": []
  },
  {
   "cell_type": "markdown",
   "id": "b36ae16f",
   "metadata": {},
   "source": [
    "# Convert date columns to datetime"
   ]
  },
  {
   "cell_type": "code",
   "execution_count": 2,
   "id": "c997f700",
   "metadata": {},
   "outputs": [],
   "source": [
    "df['OrderDate'] = pd.to_datetime(df['OrderDate'])\n",
    "df['ShippedDate'] = pd.to_datetime(df['ShippedDate'])\n"
   ]
  },
  {
   "cell_type": "markdown",
   "id": "ce29a134",
   "metadata": {},
   "source": [
    "## Visualization 1: Shipping Cost by Country"
   ]
  },
  {
   "cell_type": "code",
   "execution_count": 3,
   "id": "fc0a6ed4",
   "metadata": {},
   "outputs": [
    {
     "data": {
      "image/png": "[encoded data removed]",
      "text/plain": [
       "<Figure size 720x432 with 1 Axes>"
      ]
     },
     "metadata": {
      "needs_background": "light"
     },
     "output_type": "display_data"
    }
   ],
   "source": [
    "# Set the figure size for better readability\n",
    "plt.figure(figsize=(10,6))\n",
    "\n",
    "# Group data by country and calculate the average shipping cost per country\n",
    "# Then sort the results for a cleaner horizontal bar chart\n",
    "df.groupby(\"ShipCountry\")[\"ShippingCost\"].mean().sort_values().plot(\n",
    "    kind=\"barh\" # Horizontal bar chart\n",
    "    ,color=\"skyblue\"# Aesthetic color for the bars\n",
    "    )\n",
    "\n",
    "# Set the title of the plot\n",
    "plt.title(\"Average Shipping Cost by Country\")\n",
    "\n",
    "# Label the X and Y axes\n",
    "plt.xlabel(\"Average Shipping Cost\")\n",
    "plt.ylabel(\"Country\")\n",
    "\n",
    "# Show grid lines to improve readability\n",
    "plt.grid(True)\n",
    "\n",
    "# Automatically adjust layout to prevent label cutoff\n",
    "plt.tight_layout()\n",
    "\n",
    "# Display the final plot\n"
   ]
  },
  {
   "cell_type": "markdown",
   "id": "ae6623bb",
   "metadata": {},
   "source": [
    "## Visualization 2: Delivery Days Distribution"
   ]
  },
  {
   "cell_type": "code",
   "execution_count": 4,
   "id": "ac85598f",
   "metadata": {},
   "outputs": [
    {
     "data": {
      "image/png": "[encoded data removed]",
      "text/plain": [
       "<Figure size 720x432 with 1 Axes>"
      ]
     },
     "metadata": {
      "needs_background": "light"
     },
     "output_type": "display_data"
    }
   ],
   "source": [
    "# Set the size of the figure\n",
    "plt.figure(figsize=(10, 6))\n",
    "\n",
    "# Plot a histogram of delivery days\n",
    "# Drop any missing values to avoid errors\n",
    "df[\"DeliveryDays\"].dropna().plot(\n",
    "    kind=\"hist\",           # Histogram to show frequency distribution\n",
    "    bins=20,               # Number of bins (intervals)\n",
    "    color=\"#6495ED\",       # Cornflower blue for visual appeal\n",
    "    edgecolor=\"black\"      # Black edges around the bars for clarity\n",
    ")\n",
    "\n",
    "# Add a title to the chart\n",
    "plt.title(\"Distribution of Delivery Days\")\n",
    "\n",
    "# Label the X-axis and Y-axis\n",
    "plt.xlabel(\"Delivery Days\")\n",
    "plt.xlabel(\"Frequency\")\n",
    "\n",
    "# Add gridlines for easier visual estimation\n",
    "plt.grid(True)\n",
    "\n",
    "# Adjust layout to avoid overlap or cut-off\n",
    "plt.tight_layout()\n",
    "\n",
    "# Render the plot\n",
    "plt.show()"
   ]
  },
  {
   "cell_type": "markdown",
   "id": "f7e3ee16",
   "metadata": {},
   "source": [
    "## Visualization 3: Delivery Status Count"
   ]
  },
  {
   "cell_type": "code",
   "execution_count": 5,
   "id": "8d7950fb",
   "metadata": {},
   "outputs": [
    {
     "data": {
      "image/png": "[encoded data removed]",
      "text/plain": [
       "<Figure size 432x432 with 1 Axes>"
      ]
     },
     "metadata": {},
     "output_type": "display_data"
    }
   ],
   "source": [
    "# Set the figure size (square shape is ideal for pie charts)\n",
    "plt.figure(figsize=(6, 6))\n",
    "\n",
    "# Create a pie chart of the delivery status counts\n",
    "df[\"DeliveryStatus\"].value_counts().plot(\n",
    "    kind=\"pie\",                    # Pie chart\n",
    "    autopct='%1.1f%%',             # Show percentages with 1 decimal\n",
    "    startangle=140,                # Start angle to rotate the chart for balance\n",
    "    colors=[\"#00A1D9\", \"#fc8d62\", \"#66c2a5\"]  # Custom colors (greenish and orange tones)\n",
    ")\n",
    "\n",
    "# Set the title of the plot\n",
    "plt.title(\"Delivery Status Breakdown\")\n",
    "\n",
    "# Hide the y-axis label (not needed for pie charts)\n",
    "plt.ylabel(\"\")\n",
    "\n",
    "# Adjust layout to make sure everything fits well\n",
    "plt.tight_layout()\n",
    "\n",
    "# Show the pie chart\n",
    "plt.show()\n"
   ]
  },
  {
   "cell_type": "markdown",
   "id": "ab75e1b5",
   "metadata": {},
   "source": [
    "## Visualization 4: Monthly Order Volume"
   ]
  },
  {
   "cell_type": "code",
   "execution_count": 25,
   "id": "b33aeadf",
   "metadata": {},
   "outputs": [
    {
     "data": {
      "image/png": "[encoded data removed]",
      "text/plain": [
       "<Figure size 864x432 with 1 Axes>"
      ]
     },
     "metadata": {
      "needs_background": "light"
     },
     "output_type": "display_data"
    }
   ],
   "source": [
    "# Extract the month from the order date (format: YYYY-MM)\n",
    "df[\"Months\"] = df[\"OrderDate\"].dt.to_period(\"M\")\n",
    "\n",
    "# Group the data by month and count the number of orders per month\n",
    "monthly_orders = df.groupby(\"Months\").size()\n",
    "\n",
    "#print(monthly_orders)\n",
    "\n",
    "# Set the figure size for better visibility\n",
    "plt.figure(figsize=(12, 6))\n",
    "\n",
    "# Plot the monthly order volume as a line chart\n",
    "monthly_orders.plot(kind =\"line\",marker=\"o\",color = \"purple\")\n",
    "\n",
    "# Add a title to the plot\n",
    "plt.title(\"Monthly Order Volume\")\n",
    "\n",
    "# Label the axes\n",
    "plt.xlabel(\"Month\")\n",
    "plt.ylabel(\"Number of Orders\")\n",
    "# Add gridlines for easier reading\n",
    "plt.grid(True)\n",
    "\n",
    "# Optimize layout spacing\n",
    "plt.tight_layout()\n",
    "\n",
    "# Display the chart\n",
    "plt.show()\n"
   ]
  }
 ],
 "metadata": {
  "kernelspec": {
   "display_name": "Python 3",
   "language": "python",
   "name": "python3"
  },
  "language_info": {
   "codemirror_mode": {
    "name": "ipython",
    "version": 3
   },
   "file_extension": ".py",
   "mimetype": "text/x-python",
   "name": "python",
   "nbconvert_exporter": "python",
   "pygments_lexer": "ipython3",
   "version": "3.10.4"
  }
 },
 "nbformat": 4,
 "nbformat_minor": 5
}
