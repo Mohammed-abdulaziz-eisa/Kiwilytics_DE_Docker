{
 "cells": [
  {
   "cell_type": "markdown",
   "id": "16064dbf",
   "metadata": {},
   "source": [
    "# NumPy library"
   ]
  },
  {
   "cell_type": "markdown",
   "id": "e244d0d9",
   "metadata": {},
   "source": [
    "NumPy is a library for the Python programming language, adding support for large, multi-dimensional arrays and matrices, along with a large collection of high-level mathematical functions to operate on these arrays"
   ]
  },
  {
   "cell_type": "markdown",
   "id": "fc941b98",
   "metadata": {},
   "source": [
    "Creating Arrays"
   ]
  },
  {
   "cell_type": "code",
   "execution_count": null,
   "id": "a54bb48e",
   "metadata": {},
   "outputs": [],
   "source": [
    "# 📦 Importing Numpy Library\n",
    "import numpy as np"
   ]
  },
  {
   "cell_type": "code",
   "execution_count": null,
   "id": "15c1681e",
   "metadata": {},
   "outputs": [],
   "source": [
    "# 🧱 Creating a 1D Numpy Array and Checking Dimensions\n",
    "\n",
    "#np.array creates an array\n",
    "a=np.array([1,2,3])\n",
    "print(a)\n",
    "#a.ndim returns the dimension of the array\n",
    "print(a.ndim)\n",
    "\n",
    "print(a.dtype)"
   ]
  },
  {
   "cell_type": "code",
   "execution_count": null,
   "id": "0664cc72",
   "metadata": {},
   "outputs": [],
   "source": [
    "# 🧱 Creating a 2D Numpy Array and Checking Properties (Dimension, Shape, Type)\n",
    "\n",
    "b=np.array([[1.1,2.4,3.3],[4.1,5.2,6.5]])\n",
    "print (b)\n",
    "\n",
    "# b.ndim returns the number of dimensions (2 for a 2D array)\n",
    "print(b.ndim)\n",
    "\n",
    "# b.shape returns the shape (rows, columns)\n",
    "print(b.shape)\n",
    "\n",
    "# b.dtype returns the data type of elements in the array\n",
    "print(b.dtype)\n"
   ]
  },
  {
   "cell_type": "markdown",
   "id": "f32f28ca",
   "metadata": {},
   "source": [
    "Array Indexing and Slicing"
   ]
  },
  {
   "cell_type": "code",
   "execution_count": null,
   "id": "bcc5acc6",
   "metadata": {},
   "outputs": [],
   "source": [
    "# 🧪 Executing a Code Snippet: 2D Integer Array and Element Access\n",
    "\n",
    "c=np.array([[1,2,3,4],[5,6,7,8],[9,10,11,12]],\"\\n\")\n",
    "print(c,\"\\n\")\n",
    "print(c[1,2],\"\\n\")\n",
    "print(\"Second row\",c[1,:],\"\\n\")# : = all elements \n",
    "\n",
    "print(\"Second to Last Row\",c[-2,:],\"\\n\")# : = all elements \n",
    "\n",
    "print(\"Last column\",c[:,-1],\"\\n\")\n",
    "print(\"The middle 2 elements in row 2\",c[1,1:3],\"\\n\")\n",
    "#set 3 = 20\n",
    "c[0,2]=20\n",
    "print(\"After change\",\"\\n\",c)"
   ]
  },
  {
   "cell_type": "markdown",
   "id": "9c39ae9a",
   "metadata": {},
   "source": [
    "Create Zeros and Ones And Identity Arrays"
   ]
  },
  {
   "cell_type": "code",
   "execution_count": null,
   "id": "3a67939a",
   "metadata": {},
   "outputs": [],
   "source": [
    "# ⚪ Creating Arrays Filled with Zeros or Ones\n",
    "\n",
    "#np.zeros(rows,columns) -> creates array filled with zeros\n",
    "a=np.zeros((2,3))\n",
    "print (\"a\",\"\\n\",a,\"\\n\")\n",
    "#np.ones(rows,columns) -> creates array filled with ones\n",
    "b=np.ones((2,3))\n",
    "print (\"b\",\"\\n\",b,\"\\n\")\n",
    "#np.full((rows,columns),number) -> creates array filled with specific number\n",
    "c=np.full((2,3),'Kiwilytics')\n",
    "print (\"c\",\"\\n\",c,\"\\n\")\n",
    "#np.identity(square -> Rows = columns) -> creates array filled with ones at the diagonal\n",
    "s=np.identity(3)\n",
    "print(\"s\",\"\\n\",s,\"\\n\")\n",
    "\n",
    "print(a.dtype)\n"
   ]
  },
  {
   "cell_type": "markdown",
   "id": "4079e668",
   "metadata": {},
   "source": [
    "Create Array with Random Numbers"
   ]
  },
  {
   "cell_type": "code",
   "execution_count": null,
   "id": "99eaa4d5",
   "metadata": {},
   "outputs": [],
   "source": [
    "# 🎲 Generating Random Numbers\n",
    "\n",
    "#np.random.rand creates array of random numbers between 0 and 1 of specific size\n",
    "d=np.random.rand(2,3)\n",
    "print(d,\"\\n\")\n",
    "#np.random.randint creates array of random numbers between specified start and end integer numbers of specific size\n",
    "e=np.random.randint(1,6,size=(2,3))#end is not included\n",
    "print(e)"
   ]
  },
  {
   "cell_type": "markdown",
   "id": "94fb50d4",
   "metadata": {},
   "source": [
    "Sync Arrays"
   ]
  },
  {
   "cell_type": "code",
   "execution_count": null,
   "id": "6f0914e3",
   "metadata": {},
   "outputs": [],
   "source": [
    "# 🧪 2 Arrays that affect one another\n",
    "\n",
    "x1=np.array([[1,2,3],[4,5,6]])\n",
    "print(x1,\"\\n\")\n",
    "#Any change in x2 will be applied on x1\n",
    "x2=x1\n",
    "x2[0,1]=10\n",
    "print(\"x1\",\"\\n\",x1,\"\\n\\n\",\"x2\",\"\\n\",x2)"
   ]
  },
  {
   "cell_type": "code",
   "execution_count": null,
   "id": "a5430557",
   "metadata": {},
   "outputs": [],
   "source": []
  },
  {
   "cell_type": "code",
   "execution_count": null,
   "id": "7c0123f1",
   "metadata": {},
   "outputs": [],
   "source": [
    "# 🧪 2 Arrays that do not affect one another\n",
    "\n",
    "y1=np.array([[1,2,3],[4,5,6]])\n",
    "print(y1,\"\\n\")\n",
    "#copy() creates copy of y1 so any change in y2 will not be applied on y1\n",
    "y2=y1.copy()\n",
    "y2[0,1] = 10\n",
    "print(\"y1\",\"\\n\",y1,\"\\n\\n\",\"y2\",\"\\n\",y2)"
   ]
  },
  {
   "cell_type": "markdown",
   "id": "fd5cf25f",
   "metadata": {},
   "source": [
    "Arithmatic Operations"
   ]
  },
  {
   "cell_type": "code",
   "execution_count": null,
   "id": "998d837d",
   "metadata": {},
   "outputs": [],
   "source": [
    "# 🧪 Arithmatic Operations on Arrays\n",
    "\n",
    "arr=np.array([[1,2,3,4],[5,6,7,8]])\n",
    "print(\"arr\",\"\\n\",arr,\"\\n\")\n",
    "print(\"arr+2\",\"\\n\",arr+2,\"\\n\")\n",
    "print(\"arr-2\",\"\\n\",arr-2,\"\\n\")\n",
    "print(\"arr*2\",\"\\n\",arr*2,\"\\n\")\n",
    "print(\"arr/2\",\"\\n\",arr/2,\"\\n\")\n",
    "print(\"arr**2\",\"\\n\",arr**2,\"\\n\")\n"
   ]
  },
  {
   "cell_type": "markdown",
   "id": "b21ea060",
   "metadata": {},
   "source": [
    "Useful NumPy Functions for Data Work"
   ]
  },
  {
   "cell_type": "code",
   "execution_count": null,
   "id": "02301d77",
   "metadata": {},
   "outputs": [],
   "source": [
    "# 🧪 Extend an array with a repeat\n",
    "\n",
    "arr=np.array([[1,2,3,4],[5,6,7,8]])\n",
    "#repeat(arr,number) flattening the array and repeat the array number of times\n",
    "print(\"arr\",\"\\n\",arr,\"\\n\")\n",
    "\n",
    "arr1=np.repeat(arr,2)\n",
    "print(\"arr1\",\"\\n\",arr1,\"\\n\")\n",
    "\n",
    "#if the axis is specified no flattening will happen\n",
    "arr2=np.repeat(arr,2,axis=0) #0 = row\n",
    "print(\"arr2\",\"\\n\",arr2,\"\\n\")\n",
    "\n",
    "arr3=np.repeat(arr,2,axis=1) #1 = column\n",
    "print(\"arr3\",\"\\n\",arr3,\"\\n\")"
   ]
  },
  {
   "cell_type": "code",
   "execution_count": null,
   "id": "c96d1be5",
   "metadata": {},
   "outputs": [],
   "source": [
    "# 🧪 Create a bigger Array using smaller ones through stacking\n",
    "\n",
    "a=np.array([1,2,3,4])\n",
    "print(\"a\",a)\n",
    "b=np.array([5,6,7,8])\n",
    "print(\"b\",b)\n",
    "\n",
    "#np.vstack creates vertical stack of specific order ([order])\n",
    "print(\"vertical\",\"\\n\",np.vstack([a,b,a,b]),\"\\n\")\n",
    "#np.hstack creates horizontal stack of specific order ([order])\n",
    "print(\"horizontal\",np.hstack([b,a,b,a]))"
   ]
  },
  {
   "cell_type": "markdown",
   "id": "765f6b8e",
   "metadata": {},
   "source": [
    "Concatenate Arrays"
   ]
  },
  {
   "cell_type": "code",
   "execution_count": null,
   "id": "b8309758",
   "metadata": {},
   "outputs": [],
   "source": [
    "# 🧪 Create Bigger Array through concatenating smaller ones\n",
    "\n",
    "k=np.array([[1,2,3,4],[5,6,7,8]])\n",
    "print(\"K\",k,'\\n')\n",
    "\n",
    "k1=np.array([[9,10,11,12],[13,14,15,16]])\n",
    "print(\"K1\",k1,'\\n')\n",
    "\n",
    "print(\"Concatenate\")\n",
    "print(np.concatenate((k,k1),axis=0),\"\\n\") #0=row (on top) ~Vstacking\n",
    "print(np.concatenate((k,k1),axis=1),\"\\n\") #1 = column (Beside) ~Hstacking\n",
    "\n",
    "#Comparing with Stacking\n",
    "#print(\"Stacking\")\n",
    "print(np.vstack([k,k1]),\"\\n\")\n",
    "print(np.hstack([k,k1]),\"\\n\")"
   ]
  },
  {
   "cell_type": "markdown",
   "id": "46a634d0",
   "metadata": {},
   "source": [
    "Array Manipulation (Generate, Reshape and Transpose Arrays)"
   ]
  },
  {
   "cell_type": "code",
   "execution_count": null,
   "id": "fb9fd13a",
   "metadata": {},
   "outputs": [],
   "source": [
    "#np.arange(start,end,number of steps) creates array , end is not included\n",
    "x=np.arange(1,11,2)\n",
    "print(x,\"\\n\")\n",
    "#np.linspace(start,end,number of samples) creates evenly spaced samples \n",
    "y=np.linspace(1,100,11)\n",
    "print(y,\"\\n\")\n",
    "arr=np.array([[1,2,3,4,5,6,7],[8,9,10,11,12,13,14]])\n",
    "print(\"arr\",\"\\n\",arr,\"\\n\")\n",
    "#arr.reshape(Rows,columns) changes the array size (before 7*2=14, after must equal 14)\n",
    "print(arr.reshape(7,2))\n",
    "\n",
    "print(\"transposed\",\"\\n\",np.transpose(arr))\n",
    "\n",
    "print(\"flattened\",\"\\n\",arr.flat[:])\n",
    "\n",
    "#print(\"arr1\",\"\\n\",arr1,\"\\n\")\n",
    "\n",
    "#np.transpose(arr1)-> row=column and column=row\n"
   ]
  },
  {
   "cell_type": "markdown",
   "id": "06506229",
   "metadata": {},
   "source": [
    "Append Array to Another"
   ]
  },
  {
   "cell_type": "code",
   "execution_count": null,
   "id": "b5727865",
   "metadata": {},
   "outputs": [],
   "source": [
    "# Append an Array to another array\n",
    "\n",
    "u=np.array([[1,2,3,4],[5,6,7,8]])\n",
    "print(\"u\",\"\\n\",u,\"\\n\")\n",
    "\n",
    "u1=np.append(u,[[9,10,11,12]],axis=0) #Underneath \n",
    "print(\"u1\",\"\\n\",u1,\"\\n\")\n",
    "\n",
    "u2=np.append(u,[[5],[9]],axis=1) #\n",
    "print(\"u2\",\"\\n\",u2,\"\\n\")"
   ]
  },
  {
   "cell_type": "markdown",
   "id": "b5b3c76d",
   "metadata": {},
   "source": [
    "Insert and Delete from Arrays"
   ]
  },
  {
   "cell_type": "code",
   "execution_count": null,
   "id": "bdcd4d66",
   "metadata": {},
   "outputs": [],
   "source": [
    "# Append an Array to another array\n",
    "\n",
    "r=np.array([[1,2,3,4],[5,6,7,8]])\n",
    "print(\"r\",\"\\n\",r,\"\\n\")\n",
    "\n",
    "r1=np.insert(r,2,[[11,12,13,14]],axis=0)\n",
    "print(\"r1\",\"\\n\",r1,\"\\n\")\n",
    "\n",
    "r2=np.insert(r,3,[10,11],axis=1)\n",
    "print(\"r2\",\"\\n\",r2,\"\\n\")\n",
    "\n",
    "#print(r,\"\\n\\n\",r1,\"\\n\\n\",r2,\"\\n\\n\")\n",
    "r3=np.delete(r,1,axis=1)\n",
    "print(\"r3\",\"\\n\",r3,\"\\n\")\n"
   ]
  },
  {
   "cell_type": "markdown",
   "id": "95f175cb",
   "metadata": {},
   "source": [
    "Select Array Subset"
   ]
  },
  {
   "cell_type": "code",
   "execution_count": null,
   "id": "c0f57e6b",
   "metadata": {},
   "outputs": [],
   "source": [
    "#Select Subset of an Array\n",
    "a=np.array([[1,2,3,4,5],[6,7,8,9,10],[11,12,13,14,15],[16,17,18,19,20],[21,22,23,24,25]])\n",
    "print(a)"
   ]
  },
  {
   "cell_type": "code",
   "execution_count": null,
   "id": "1dd339a7",
   "metadata": {},
   "outputs": [],
   "source": [
    "# Try to print only 11,12,16,17\n",
    "b=a[2:4,0:2]\n",
    "print(b)\n"
   ]
  },
  {
   "cell_type": "markdown",
   "id": "ec07316f",
   "metadata": {},
   "source": [
    "# 🐼 Pandas Essentials: Practical Guide"
   ]
  },
  {
   "cell_type": "markdown",
   "id": "54724016",
   "metadata": {},
   "source": [
    "### Pandas Series and DataFrames Basics"
   ]
  },
  {
   "cell_type": "code",
   "execution_count": null,
   "id": "fce2e92b",
   "metadata": {},
   "outputs": [],
   "source": [
    "import numpy as np\n",
    "import pandas as pd\n",
    "\n",
    "# Series: Revenue over months\n",
    "monthly_revenue = pd.Series([30000,50000,45000,np.nan,60000], name=\"Revenue\")\n",
    "#print(\"🔹 Monthly Revenue Series:\\n\", monthly_revenue,\"\\n\")\n",
    "\n",
    "# DataFrame: Employees at different firms\n",
    "data = {\n",
    "    'Employee': ['Youssef','Toka','Abdelrahman','Maher'],\n",
    "    'Company': ['Kiwilytics', 'PwC', 'EY','KPMG'],\n",
    "    'Experience_Years': [5, 7, 3, 9]\n",
    "}\n",
    "\n",
    "df = pd.DataFrame(data)\n",
    "\n",
    "print(\"🔹 DataFrame Example:\\n\", df)"
   ]
  },
  {
   "cell_type": "markdown",
   "id": "e13e8aff",
   "metadata": {},
   "source": [
    "### 🔍 Exploring and Inspecting Your DataFrame"
   ]
  },
  {
   "cell_type": "code",
   "execution_count": null,
   "id": "7b5ec2e5",
   "metadata": {},
   "outputs": [],
   "source": [
    "# First few rows\n",
    "print(\"🔹 First 5 Rows:\")\n",
    "print(df.head())\n",
    "\n",
    "# Last few rows\n",
    "\n",
    "print(\"\\n🔹 Last 5 Rows:\")\n",
    "print(df.tail())\n",
    "\n"
   ]
  },
  {
   "cell_type": "code",
   "execution_count": null,
   "id": "03d1d7bc",
   "metadata": {},
   "outputs": [],
   "source": [
    "# Info summary\n",
    "print(\"\\n📋 DataFrame Info:\")\n",
    "df.info()\n",
    "\n",
    "\n",
    "# Describe numerical columns\n",
    "print(\"\\n📊 Summary Statistics:\")\n",
    "df.describe()\n"
   ]
  },
  {
   "cell_type": "code",
   "execution_count": null,
   "id": "0366af6e",
   "metadata": {},
   "outputs": [],
   "source": [
    "# Check if any values are missing\n",
    "print(\"\\n🚨 Missing Values Per Column:\")\n",
    "print(df.isna().sum())\n",
    "\n",
    "\n",
    "# View full matrix of missing positions\n",
    "print(\"\\n🧼 Matrix of Missing Values:\")\n",
    "print(df.isna())\n"
   ]
  },
  {
   "cell_type": "markdown",
   "id": "e81936f6",
   "metadata": {},
   "source": [
    "### Simulate a missing value"
   ]
  },
  {
   "cell_type": "code",
   "execution_count": null,
   "id": "55206dbc",
   "metadata": {},
   "outputs": [],
   "source": [
    "# Simulate a missing experience value\n",
    "\n",
    "df.loc[1, 'Experience_Years'] = np.nan\n",
    "print(df,\"\\n\")\n",
    "\n",
    "# Re-run missing value check\n",
    "print(\"\\n🚨 After introducing missing data:\")\n",
    "print(df.isna().sum())\n",
    "print(df.dropna())\n",
    "\n",
    "\n",
    "# Drop rows with missing data\n",
    "print(\"\\n🧹 After dropping missing rows:\")\n"
   ]
  },
  {
   "cell_type": "code",
   "execution_count": null,
   "id": "3e76a74b",
   "metadata": {},
   "outputs": [],
   "source": [
    "# Re-initialize the DataFrame to its original clean state\n",
    "\n",
    "data = {\n",
    "    'Employee': ['Youssef','Toka','Abdelrahman','Maher'],\n",
    "    'Company': ['Kiwilytics', 'PwC', 'EY','KPMG'],\n",
    "    'Experience_Years': [5, 7, 3, 9]\n",
    "}\n",
    "\n",
    "df = pd.DataFrame(data)\n",
    "\n",
    "\n",
    "# Optional preview\n",
    "print(\"✅ DataFrame Reset:\")\n",
    "print(df)"
   ]
  },
  {
   "cell_type": "markdown",
   "id": "639c70e7",
   "metadata": {},
   "source": [
    "### Selecting and Filtering DataFrames"
   ]
  },
  {
   "cell_type": "code",
   "execution_count": null,
   "id": "d921ba17",
   "metadata": {},
   "outputs": [],
   "source": [
    "# Selecting columns\n",
    "print(\"🔸 Company Column:\\n\", df['Company'] ,\"\\n\")\n",
    "#print(\"🔸 Name & Experience:\\n\",  ,\"\\n\")\n",
    "print(\"🔸 Company Column:\\n\", df[['Employee','Experience_Years']] ,\"\\n\")\n",
    "\n",
    "\n",
    "# Selecting rows\n",
    "print(\"🔸 Row by label (loc):\\n\", df.loc[2],\"\\n\")\n",
    "print(\"🔸 Row by position (iloc):\\n\", df.iloc[2] ,\"\\n\")\n",
    "\n",
    "# Filtering: Employees with more than 5 years\n",
    "print(\"🔸 Experienced Employees:\\n\", df[df['Experience_Years'] > 5],\"\\n\")\n",
    "\n",
    "# Filter: Working at Kiwilytics\n",
    "print(\"🔸 Kiwilytics Team:\\n\",df[df['Company'] == 'Kiwilytics'] ,\"\\n\")"
   ]
  },
  {
   "cell_type": "markdown",
   "id": "ffaf2908",
   "metadata": {},
   "source": [
    "### Modifying DataFrames and Adding Columns"
   ]
  },
  {
   "cell_type": "code",
   "execution_count": null,
   "id": "dca79d49",
   "metadata": {},
   "outputs": [],
   "source": [
    "# Standardize company names\n",
    "df['Company'] = df['Company'].str.upper()\n",
    "print(\"🔹 Standardized Company Names:\\n\", df,\"\\n\")\n",
    "\n",
    "# Add a seniority flag\n",
    "df['Is_Very_Senior'] = df['Experience_Years'] >= 8\n",
    "print(\"🔹 With Seniority Flag:\\n\", df,\"\\n\")"
   ]
  },
  {
   "cell_type": "markdown",
   "id": "214ebb2c",
   "metadata": {},
   "source": [
    "### Handling Missing Data"
   ]
  },
  {
   "cell_type": "code",
   "execution_count": null,
   "id": "8f80d424",
   "metadata": {},
   "outputs": [],
   "source": [
    "# Create dataset of project budgets\n",
    "df_projects = pd.DataFrame({\n",
    "    'Client': ['Kiwilytics', 'PwC', 'EY', 'KPMG', 'McKinsey'],\n",
    "    'Budget_kUSD': [120, 200, np.nan, 150, None]\n",
    "})\n",
    "print(\"🔸 Original Budgets:\\n\", df_projects,\"\\n\")\n",
    "\n",
    "# Fill missing budgets with mean\n",
    "\n",
    "mean_budget = df_projects['Budget_kUSD'].mean()\n",
    "print(mean_budget)\n",
    "\n",
    "df_projects['Budget_kUSD'] = df_projects['Budget_kUSD'].fillna(mean_budget)\n",
    "\n",
    "print(\"🔹 After Filling Missing Budgets:\\n\", df_projects,\"\\n\")"
   ]
  },
  {
   "cell_type": "markdown",
   "id": "7942a889",
   "metadata": {},
   "source": [
    "### Grouping & Aggregating DataFrames"
   ]
  },
  {
   "cell_type": "code",
   "execution_count": null,
   "id": "fcf4ece6",
   "metadata": {},
   "outputs": [],
   "source": [
    "# Revenue per company per quarter\n",
    "df_revenue = pd.DataFrame({\n",
    "    'Company': ['Kiwilytics', 'PwC', 'EY', 'KPMG', 'Kiwilytics', 'PwC'],\n",
    "    'Quarter': ['Q1', 'Q1', 'Q1', 'Q1', 'Q2', 'Q2'],\n",
    "    'Revenue_kUSD': [120, 200, 180, 150, 130, 210]\n",
    "})\n",
    "\n",
    "print(df_revenue)\n",
    "\n",
    "grouped = df_revenue.groupby('Company')['Revenue_kUSD'].sum()\n",
    "\n",
    "print(\"📊 Total Revenue by Company:\\n\", grouped,\"\\n\")\n"
   ]
  },
  {
   "cell_type": "markdown",
   "id": "193abfc0",
   "metadata": {},
   "source": [
    "### Merging DataFrames"
   ]
  },
  {
   "cell_type": "code",
   "execution_count": null,
   "id": "7593c11d",
   "metadata": {},
   "outputs": [],
   "source": [
    "# Merge project managers and projects\n",
    "df_managers = pd.DataFrame({\n",
    "    'ManagerID': [1, 2, 3],\n",
    "    'Name': ['Ibrahim', 'Maher', 'Abdelrahman']\n",
    "})\n",
    "\n",
    "print(df_managers)\n",
    "\n",
    "df_projects = pd.DataFrame({\n",
    "    'ProjectID': [101, 102, 103],\n",
    "    'ManagerID': [1, 2, 2],\n",
    "    'Client': ['Kiwilytics', 'PwC', 'EY']\n",
    "})\n",
    "print(df_projects)\n",
    "\n",
    "merged_df = pd.merge(df_managers, df_projects,on='ManagerID',how='inner')\n",
    "print(\"🔗 Merged Managers & Projects:\\n\", merged_df,\"\\n\")"
   ]
  },
  {
   "cell_type": "markdown",
   "id": "1660c77f",
   "metadata": {},
   "source": [
    "## Real-World Data Wrangling Problem (with Pandas)"
   ]
  },
  {
   "cell_type": "markdown",
   "id": "2f7db303",
   "metadata": {},
   "source": [
    "🎯 Problem Statement: Unclean Orders Dataset\n",
    "\n",
    "In this exercise, you’re stepping into the shoes of a Data Engineer at Kiwilytics working for a fast-growing eCommerce company. Your job is to clean and prepare the raw orders data collected from the online store, customer service, and shipping vendors.\n",
    "\n",
    "The dataset was exported from the operations system and handed over to the data team. Unfortunately, like most real-world datasets, it’s far from clean. Your mission is to explore, clean, and transform this data so it’s ready for downstream analytics and reporting."
   ]
  },
  {
   "cell_type": "markdown",
   "id": "86a004d1",
   "metadata": {},
   "source": [
    "📊 About the Dataset: orders_with_issues.csv\n",
    "\n",
    "This dataset contains a number of customer order records from an online retail platform. Each row represents a single customer order, including key details about the order date, shipping information, and cost. The data is intentionally messy to simulate what real-world data often looks like when handed to a data team.\n"
   ]
  },
  {
   "cell_type": "markdown",
   "id": "2a0ff1fe",
   "metadata": {},
   "source": [
    "💡 Your Objective:\n",
    "\n",
    "By the end of this exercise, you will:\n",
    "\n",
    "- Load the dataset into a DataFrame\n",
    "\n",
    "- Inspect the raw data\n",
    "\n",
    "- Clean invalid entries and handle missing values\n",
    "\n",
    "- Engineer new features such as delivery time and shipping type\n",
    "\n",
    "- Standardize the format for reporting\n",
    "\n",
    "- Export a clean version"
   ]
  },
  {
   "cell_type": "markdown",
   "id": "8429c03b",
   "metadata": {},
   "source": [
    "### Loading & Exploring the dataset"
   ]
  },
  {
   "cell_type": "code",
   "execution_count": null,
   "id": "aea659ca",
   "metadata": {},
   "outputs": [],
   "source": [
    "#Import Libraries\n",
    "import numpy as np\n",
    "import pandas as pd\n",
    "\n",
    "# Load data\n",
    "\n",
    "df = pd.read_csv(\"orders_with_issues.csv\")\n",
    "\n",
    "# Preview\n",
    "#print(\"🔍 Sample Data:\")\n",
    "print(df.head())\n",
    "\n",
    "\n",
    "# Summary\n",
    "#print(\"\\n🧾 Column Info:\")\n",
    "print(df.info())\n",
    "\n",
    "\n",
    "# Check missing values\n",
    "#print(\"\\n🚨 Missing Values:\")\n",
    "print(df.isna().sum)\n",
    "\n",
    "\n",
    "# Check unique shipping companies\n",
    "print(\"\\n📦 Unique Shipping Companies:\")\n",
    "print(df['ShippingCompany'].value_counts())\n"
   ]
  },
  {
   "cell_type": "markdown",
   "id": "b48bb03f",
   "metadata": {},
   "source": [
    "### Cleaning Dates, numeric entries that don't make sense"
   ]
  },
  {
   "cell_type": "code",
   "execution_count": null,
   "id": "84d1d8da",
   "metadata": {},
   "outputs": [],
   "source": [
    "\n",
    "# Convert dates (Error Types: #coerce # ignore #raise)\n",
    "\n",
    "df['OrderDate'] = pd.to_datetime(df['OrderDate'], errors='coerce')\n",
    "df['ShippedDate'] = pd.to_datetime(df['ShippedDate'], errors='coerce')\n",
    "\n",
    "# Clean shipping cost\n",
    "df['ShippingCost'] = pd.to_numeric(df['ShippingCost'], errors='coerce')\n",
    "df.loc[df['ShippingCost'] < 0, 'ShippingCost'] = np.nan\n",
    "df['ShippingCost'] = df['ShippingCost'].fillna(df['ShippingCost'].median())\n",
    "# Drop rows where both dates are missing\n",
    "\n",
    "df = df[~(df['OrderDate'].isna() & df['ShippedDate'].isna())]\n",
    "\n",
    "print(len(df))\n",
    "\n",
    "\n",
    "\n",
    "\n"
   ]
  },
  {
   "cell_type": "markdown",
   "id": "475c5e88",
   "metadata": {},
   "source": [
    "### Handling Nulls, Fixing Fields & Standardization"
   ]
  },
  {
   "cell_type": "code",
   "execution_count": null,
   "id": "4e1fdc49",
   "metadata": {},
   "outputs": [],
   "source": [
    "# Handle nulls\n",
    "df['OrderID'] = df['OrderID'].fillna(method='ffill')\n",
    "df['CustomerID'] = df['CustomerID'].fillna(\"Unknown\")\n",
    "df['ShipCity'] = df['ShipCity'].fillna(\"Unspecified\")\n",
    "\n",
    "# Standardize names\n",
    "df['ShipCountry'] = df['ShipCountry'].str.strip().str.title()\n",
    "df['ShipCity'] = df['ShipCity'].str.strip().str.title()\n",
    "df['ShippingCompany'] = df['ShippingCompany'].str.strip()\n",
    "\n",
    "# Fix specific cases\n",
    "df.loc[df['ShippingCompany'].str.contains(\"Kiwilytics\", na=False), 'ShippingCompany'] = \"Kiwilytics Goods Shipping LLC.\""
   ]
  },
  {
   "cell_type": "markdown",
   "id": "6b084048",
   "metadata": {},
   "source": [
    "### Feature Engineering"
   ]
  },
  {
   "cell_type": "code",
   "execution_count": null,
   "id": "6dfe2fe1",
   "metadata": {},
   "outputs": [],
   "source": [
    "# Days between order and shipment\n",
    "\n",
    "df['DeliveryDays'] = (df['ShippedDate'] - df['OrderDate']).dt.days\n",
    "\n",
    "# Flags\n",
    "def get_status(x):\n",
    "    if pd.isna(x):\n",
    "        return \"Unknown\"\n",
    "    elif x > 15:\n",
    "        return \"Late\"\n",
    "    else:\n",
    "        return \"OnTime\"\n",
    "\n",
    "df['DeliveryStatus'] = df['DeliveryDays'].apply(get_status)\n",
    "\n",
    "\n",
    "\n",
    "# Domestic vs International\n",
    "\n",
    "\n",
    "def check_domestic(country):\n",
    "    if country in domestic_countries:\n",
    "        return \"Yes\"\n",
    "    else:\n",
    "        return \"No\"\n",
    "\n",
    "domestic_countries = [\"Germany\"]\n",
    "\n",
    "df['IsDomestic'] = df['ShipCountry'].apply(check_domestic)\n",
    "\n",
    "df.head()\n",
    " \n"
   ]
  },
  {
   "cell_type": "markdown",
   "id": "3221d7f6",
   "metadata": {},
   "source": [
    "### Grouping"
   ]
  },
  {
   "cell_type": "code",
   "execution_count": 73,
   "id": "e875ef6a",
   "metadata": {},
   "outputs": [
    {
     "name": "stdout",
     "output_type": "stream",
     "text": [
      "📊 Avg Shipping Cost by Company:\n",
      "ShippingCompany\n",
      "Aramex International              255.897451\n",
      "DHL Express                       228.160192\n",
      "FedEx Logistics                   229.931321\n",
      "Kiwilytics Goods Shipping LLC.    244.036829\n",
      "UPS Worldwide                     259.419333\n",
      "Name: ShippingCost, dtype: float64\n"
     ]
    }
   ],
   "source": [
    "# Grouping examples\n",
    "avg_shipping_by_company = df.groupby(\"ShippingCompany\")['ShippingCost'].mean()\n",
    "print(\"📊 Avg Shipping Cost by Company:\")\n",
    "print(avg_shipping_by_company)"
   ]
  },
  {
   "cell_type": "markdown",
   "id": "09cd8585",
   "metadata": {},
   "source": [
    "### Export, Reporting & Wrap-up"
   ]
  },
  {
   "cell_type": "code",
   "execution_count": 79,
   "id": "15b08ec9",
   "metadata": {},
   "outputs": [
    {
     "name": "stdout",
     "output_type": "stream",
     "text": [
      "\n",
      "✅ Final Dataset Snapshot:\n",
      "   OrderID CustomerID  OrderDate ShippedDate  ShippingCost ShipCountry  \\\n",
      "0   1000.0       C001 2025-05-17  2025-07-30        234.09     Germany   \n",
      "1   1001.0       C002 2025-01-26  2025-07-30        320.61      Canada   \n",
      "2   1002.0       C003 2025-03-08  2025-07-30        165.17      Canada   \n",
      "3   1003.0       C004 2025-03-24  2025-07-30         12.55     Germany   \n",
      "4   1004.0       C005 2025-04-15  2025-07-30        186.36      Canada   \n",
      "\n",
      "    ShipCity                 ShippingCompany  DeliveryDays DeliveryStatus  \\\n",
      "0    Hamburg  Kiwilytics Goods Shipping LLC.          74.0           Late   \n",
      "1   Montreal                   UPS Worldwide         185.0           Late   \n",
      "2  Vancouver                 FedEx Logistics         144.0           Late   \n",
      "3     Munich            Aramex International         128.0           Late   \n",
      "4  Vancouver                 FedEx Logistics         106.0           Late   \n",
      "\n",
      "  IsDomestic  \n",
      "0        Yes  \n",
      "1         No  \n",
      "2         No  \n",
      "3        Yes  \n",
      "4         No  \n",
      "\n",
      "📈 Delivery Status Breakdown:\n",
      "DeliveryStatus\n",
      "Late       190\n",
      "Unknown     47\n",
      "OnTime       5\n",
      "Name: count, dtype: int64\n",
      "\n",
      "🌎 Orders by Country:\n",
      "ShipCountry\n",
      "Uk           53\n",
      "Usa          49\n",
      "Canada       45\n",
      "Egypt        41\n",
      "Germany      38\n",
      "Palestine    16\n",
      "Name: count, dtype: int64\n",
      "\n",
      "🌎 Orders by City:\n",
      "ShipCity\n",
      "Liverpool      20\n",
      "Montreal       19\n",
      "Giza           18\n",
      "Manchester     17\n",
      "London         15\n",
      "Munich         14\n",
      "Chicago        13\n",
      "Toronto        13\n",
      "Cairo          13\n",
      "Houston        13\n",
      "Gaza           12\n",
      "New York       12\n",
      "Vancouver      12\n",
      "Hamburg        12\n",
      "Berlin         11\n",
      "Los Angeles    11\n",
      "Alexandria      9\n",
      "Unspecified     4\n",
      "Al Quds         4\n",
      "Name: count, dtype: int64\n",
      "\n",
      "📦 Top 3 Shipping Companies:\n",
      "ShippingCompany\n",
      "FedEx Logistics         53\n",
      "DHL Express             52\n",
      "Aramex International    51\n",
      "Name: count, dtype: int64\n"
     ]
    }
   ],
   "source": [
    "# Export cleaned file\n",
    "df.to_csv(\"cleaned_orders_final.csv)\",index=False)\n",
    "\n",
    "# Final summary\n",
    "print(\"\\n✅ Final Dataset Snapshot:\")\n",
    "print(df.head())\n",
    "\n",
    "print(\"\\n📈 Delivery Status Breakdown:\")\n",
    "print(df['DeliveryStatus'].value_counts())\n",
    "\n",
    "\n",
    "print(\"\\n🌎 Orders by Country:\")\n",
    "print(df['ShipCountry'].value_counts())\n",
    "\n",
    "print(\"\\n🌎 Orders by City:\")\n",
    "print(df['ShipCity'].value_counts())\n",
    "\n",
    "print(\"\\n📦 Top 3 Shipping Companies:\")\n",
    "\n",
    "print(df['ShippingCompany'].value_counts().head(3))\n"
   ]
  },
  {
   "cell_type": "markdown",
   "id": "ffc9e757",
   "metadata": {},
   "source": [
    "💡 Key Takeaways:\n",
    "\n",
    "Exploratory Data Analysis\n",
    "\n",
    "- You learned how to inspect raw data, identify data quality issues, and understand column types, missing values, and distributions.\n",
    "\n",
    "Data Cleaning Techniques\n",
    "You practiced handling:\n",
    "- Invalid or missing dates\n",
    "- Non-numeric and negative values in cost fields\n",
    "- Nulls in critical columns like OrderID, CustomerID, and ShipCity\n",
    "- Inconsistent formatting and standardization\n",
    "- Feature Engineering\n",
    "\n",
    "You created new features like:\n",
    "- DeliveryDays: the number of days between order and shipment\n",
    "- DeliveryStatus: a flag for late vs on-time shipments\n",
    "- IsDomestic: to distinguish local vs international orders\n",
    "- Exporting Cleaned Data\n",
    "\n",
    "You prepared a final, cleaned dataset ready for analytics, reporting, or loading into a database."
   ]
  }
 ],
 "metadata": {
  "kernelspec": {
   "display_name": "Python 3",
   "language": "python",
   "name": "python3"
  },
  "language_info": {
   "codemirror_mode": {
    "name": "ipython",
    "version": 3
   },
   "file_extension": ".py",
   "mimetype": "text/x-python",
   "name": "python",
   "nbconvert_exporter": "python",
   "pygments_lexer": "ipython3",
   "version": "3.10.4"
  }
 },
 "nbformat": 4,
 "nbformat_minor": 5
}
