{
 "cells": [
  {
   "cell_type": "markdown",
   "metadata": {},
   "source": [
    "# Python Basics"
   ]
  },
  {
   "cell_type": "markdown",
   "metadata": {},
   "source": [
    "## Hello World!"
   ]
  },
  {
   "cell_type": "code",
   "execution_count": null,
   "metadata": {},
   "outputs": [],
   "source": [
    "#print() display output \n",
    "#in case the output is string must use \" or '\n",
    "print(\"Hello World!\")"
   ]
  },
  {
   "cell_type": "markdown",
   "metadata": {},
   "source": [
    "## Create and Assign Variables"
   ]
  },
  {
   "cell_type": "code",
   "execution_count": null,
   "metadata": {},
   "outputs": [],
   "source": [
    "#define variables with their values\n",
    "x=5\n",
    "print (\"x =\",x)\n",
    "y=x\n",
    "print (\"y =\",y )\n",
    "z=\"string\"\n",
    "print(z)"
   ]
  },
  {
   "cell_type": "markdown",
   "metadata": {},
   "source": [
    "## Data Types"
   ]
  },
  {
   "cell_type": "code",
   "execution_count": null,
   "metadata": {},
   "outputs": [],
   "source": [
    "#type() is a function that returns the type of the data\n",
    "a=7\n",
    "b=5.2\n",
    "c=\"python\"\n",
    "d=True\n",
    "print(a,type(a))\n",
    "print(b,type(b))\n",
    "print(c,type(c))\n",
    "print(d,type(d))"
   ]
  },
  {
   "cell_type": "markdown",
   "metadata": {},
   "source": [
    "## Arithmatic Operations"
   ]
  },
  {
   "cell_type": "code",
   "execution_count": null,
   "metadata": {},
   "outputs": [],
   "source": [
    "num1=4\n",
    "num2=2\n",
    "print(num1 + num2)\n",
    "print(num1 - num2)\n",
    "print(num1 / num2)\n",
    "print(num1 * num2)\n",
    "print(num1 ** num2) #power"
   ]
  },
  {
   "cell_type": "markdown",
   "metadata": {},
   "source": [
    "## Concatenation"
   ]
  },
  {
   "cell_type": "code",
   "execution_count": null,
   "metadata": {},
   "outputs": [],
   "source": [
    "word1=\"Hello\"\n",
    "word2=\"world\"\n",
    "print(word1 +\" \" + word2) # + = concatenate: add strings together\n",
    "print(word1 +\"\\n\" + word2) #\"\\n\" = new line "
   ]
  },
  {
   "cell_type": "code",
   "execution_count": null,
   "metadata": {},
   "outputs": [],
   "source": []
  },
  {
   "cell_type": "code",
   "execution_count": null,
   "metadata": {},
   "outputs": [],
   "source": [
    "word1=\"Number\"\n",
    "number=2\n",
    "word2=str(number) #str() convert integer type to string\n",
    "print(word1 +\" \" + word2)"
   ]
  },
  {
   "cell_type": "code",
   "execution_count": null,
   "metadata": {},
   "outputs": [],
   "source": [
    "print(word2,type(word2))"
   ]
  },
  {
   "cell_type": "code",
   "execution_count": null,
   "metadata": {},
   "outputs": [],
   "source": [
    "#input() Ask the user for input and return it in string form\n",
    "s=input(\"What is your name?\")\n",
    "print(\"Hello\", s) "
   ]
  },
  {
   "cell_type": "code",
   "execution_count": null,
   "metadata": {},
   "outputs": [],
   "source": []
  },
  {
   "cell_type": "markdown",
   "metadata": {},
   "source": [
    "## Wait"
   ]
  },
  {
   "cell_type": "code",
   "execution_count": null,
   "metadata": {},
   "outputs": [],
   "source": [
    "import time\n",
    "#input() Ask the user for input and return it in string form\n",
    "s=input(\"What is your name? \")\n",
    "time.sleep(0.5)\n",
    "print(\"Hello\", s) "
   ]
  },
  {
   "cell_type": "code",
   "execution_count": null,
   "metadata": {},
   "outputs": [],
   "source": [
    "# int() convert string type to integer \n",
    "numb1=int(input(\"Enter first number: \"))\n",
    "numb2=int(input(\"Enter second number: \"))\n",
    "time.sleep(1)\n",
    "print(numb1,\"+\",numb2,\"=\",numb1 + numb2)"
   ]
  },
  {
   "cell_type": "markdown",
   "metadata": {},
   "source": [
    "## Data Types"
   ]
  },
  {
   "cell_type": "markdown",
   "metadata": {},
   "source": [
    "### List"
   ]
  },
  {
   "cell_type": "code",
   "execution_count": null,
   "metadata": {},
   "outputs": [],
   "source": [
    "# list -> collection of ordered and changeable elements\n",
    "list1=[1,2,3,4,5]\n",
    "#slicing [start:end:steps] returns new list from the existing list\n",
    "print(list1[0])\n",
    "print(list1[0:3])\n",
    "print(list1[1:4:2])\n",
    "print(list1[0:])\n",
    "print(list1[::2])\n",
    "print(list1[-1])#-1 = last element\n",
    "print([list1]*2)\n",
    "print(list1[0:3]*2)"
   ]
  },
  {
   "cell_type": "code",
   "execution_count": null,
   "metadata": {},
   "outputs": [],
   "source": [
    "#Multiply each item by value\n",
    "print([x*2 for x in list1])"
   ]
  },
  {
   "cell_type": "code",
   "execution_count": null,
   "metadata": {},
   "outputs": [],
   "source": [
    "animals=[\"bird\",\"cat\",\"dog\",1,2,3]\n",
    "print (animals)\n",
    "# append() is method that adds an element at the end of the list\n",
    "animals.append(\"hamster\")\n",
    "print (animals)\n",
    "#insert() is method that adds an element at the specified position\n",
    "animals.insert(2,\"turtle\")\n",
    "print (animals)\n",
    "#remove() is method that removes the first item with the specified value\n",
    "animals.remove(\"turtle\")\n",
    "print (animals)"
   ]
  },
  {
   "cell_type": "code",
   "execution_count": null,
   "metadata": {},
   "outputs": [],
   "source": [
    "print(animals,type(animals))"
   ]
  },
  {
   "cell_type": "code",
   "execution_count": null,
   "metadata": {},
   "outputs": [],
   "source": [
    "print(list1[0])"
   ]
  },
  {
   "cell_type": "markdown",
   "metadata": {},
   "source": [
    "### Tuple"
   ]
  },
  {
   "cell_type": "markdown",
   "metadata": {},
   "source": [
    "tuple -> collection of elements that are immutable (unchangeable elements) Python Tuple is a collection of objects separated by commas.\n",
    "\n",
    "In some ways, a tuple is similar to a Python list in terms of indexing, nested objects, and repetition but the main difference between both is Python tuple is immutable, unlike the Python list which is mutable.\n",
    "\n",
    "Immutable in Python is when you cannot change the object type over time. If it is not possible to alter the value of an object in Python, it is known as an immutable object. Once an immutable object is created, its value remains permanent and unchangeable."
   ]
  },
  {
   "cell_type": "code",
   "execution_count": null,
   "metadata": {},
   "outputs": [],
   "source": [
    "tuple1=(1,2,'cat','dog')\n",
    "print(tuple1,type(tuple1))"
   ]
  },
  {
   "cell_type": "code",
   "execution_count": null,
   "metadata": {},
   "outputs": [],
   "source": [
    "print(tuple1[2])"
   ]
  },
  {
   "cell_type": "markdown",
   "metadata": {},
   "source": [
    "### Dictionary"
   ]
  },
  {
   "cell_type": "code",
   "execution_count": null,
   "metadata": {},
   "outputs": [],
   "source": [
    "#dictionary are used to store data values in key:value pairs \n",
    "dict={\"name\":\"Ahmed\",\n",
    "      \"age\":20,\n",
    "      \"job\":\"student\"}\n",
    "print(dict)\n",
    "print(dict[\"name\"])\n",
    "print(dict.keys())\n",
    "print(dict.values())\n",
    "print(dict.items())"
   ]
  },
  {
   "cell_type": "markdown",
   "metadata": {},
   "source": [
    "## Conditions and Loops"
   ]
  },
  {
   "cell_type": "markdown",
   "metadata": {},
   "source": [
    "### If Condition"
   ]
  },
  {
   "cell_type": "code",
   "execution_count": null,
   "metadata": {},
   "outputs": [],
   "source": [
    "# if condition:\n",
    "#    do something\n",
    "# else: the condition is false\n",
    "#    do something else\n",
    "x=10\n",
    "y=40\n",
    "if x+y > 20:\n",
    "    print (x+y,\"> 20\")\n",
    "else:\n",
    "    print(x+y,\"< 20\")"
   ]
  },
  {
   "cell_type": "code",
   "execution_count": null,
   "metadata": {},
   "outputs": [],
   "source": [
    "# elif = else if-> to check another condition\n",
    "grade= 80\n",
    "if grade >= 70:\n",
    "    print(\"A\")\n",
    "elif grade < 70 and grade >= 60:\n",
    "    print(\"B\")\n",
    "elif grade < 60 and grade >= 50:\n",
    "    print(\"C\")\n",
    "else: \n",
    "    print(\"F\")"
   ]
  },
  {
   "cell_type": "code",
   "execution_count": null,
   "metadata": {},
   "outputs": [],
   "source": [
    "x=False #True=1 ,false=0\n",
    "if x == 0 : # == check if it's equal\n",
    "    print(\"true\")\n",
    "else :\n",
    "    print(\"false\")"
   ]
  },
  {
   "cell_type": "code",
   "execution_count": null,
   "metadata": {},
   "outputs": [],
   "source": [
    "x=True \n",
    "if x != 1 : # != check if it's not equal\n",
    "    print(\"true\")\n",
    "else :\n",
    "    print(\"false\")"
   ]
  },
  {
   "cell_type": "code",
   "execution_count": null,
   "metadata": {},
   "outputs": [],
   "source": [
    "# Check if an element exists in a list\n",
    "fruits = [\"apple\", \"banana\", \"cherry\"]\n",
    "\n",
    "if \"apple\" in fruits:\n",
    "    print(\"Apple is in the list.\")\n",
    "\n",
    "if \"orange\" not in fruits:\n",
    "    print(\"Orange is not in the list.\")"
   ]
  },
  {
   "cell_type": "markdown",
   "metadata": {},
   "source": [
    "### For Loop"
   ]
  },
  {
   "cell_type": "code",
   "execution_count": null,
   "metadata": {},
   "outputs": [],
   "source": [
    "#for loop is used for iterating over a sequence like list\n",
    "number=[\"one\",\"two\",\"three\"] #list\n",
    "for x in number:\n",
    "    print(x)"
   ]
  },
  {
   "cell_type": "code",
   "execution_count": null,
   "metadata": {},
   "outputs": [],
   "source": [
    "numbers=[1,2,3,4,5,6]\n",
    "for x in numbers:\n",
    "    print(x+10)"
   ]
  },
  {
   "cell_type": "code",
   "execution_count": null,
   "metadata": {},
   "outputs": [],
   "source": [
    "for x in \"Hello!\":\n",
    "    print(x)"
   ]
  },
  {
   "cell_type": "code",
   "execution_count": null,
   "metadata": {},
   "outputs": [],
   "source": [
    "#range(start,end,steps) function returns a sequence of numbers\n",
    "#end in not included in the sequence\n",
    "for i in range(4):\n",
    "    print(i)\n",
    "\n",
    "print (\"loop2\")\n",
    "for i in range(1,5):\n",
    "    print(i)\n",
    "\n",
    "print (\"loop3\")\n",
    "for i in range(1,10,2):\n",
    "    print(i)"
   ]
  },
  {
   "cell_type": "code",
   "execution_count": null,
   "metadata": {},
   "outputs": [],
   "source": [
    "x1=[1,2]\n",
    "x2=[1,2,3,4,5]\n",
    "for i in x1: #nested loop: loop inside other loop\n",
    "    for j in x2:\n",
    "        print(i*j)"
   ]
  },
  {
   "cell_type": "markdown",
   "metadata": {},
   "source": [
    "### While loop"
   ]
  },
  {
   "cell_type": "code",
   "execution_count": null,
   "metadata": {},
   "outputs": [],
   "source": [
    "#while loop -> execute a set of statements as long as a condition is true (i<5)\n",
    "i=0\n",
    "while i<5:\n",
    "    print(i)\n",
    "    i+=1"
   ]
  },
  {
   "cell_type": "code",
   "execution_count": null,
   "metadata": {},
   "outputs": [],
   "source": [
    "i=1\n",
    "while i <= 5:\n",
    "    print(i*\"*\")\n",
    "    i+=1 #same as i=i+1"
   ]
  },
  {
   "cell_type": "code",
   "execution_count": null,
   "metadata": {},
   "outputs": [],
   "source": [
    "#break used to Terminates the loop even if the while condition is true\n",
    "x=10\n",
    "while x >= 1:\n",
    "    if x == 6:\n",
    "        print(\"Terminates the loop\")\n",
    "        break\n",
    "    print (x)\n",
    "    x-=1"
   ]
  },
  {
   "cell_type": "code",
   "execution_count": null,
   "metadata": {},
   "outputs": [],
   "source": [
    "#break used to Terminates the loop even if the while condition is true\n",
    "x=10\n",
    "while x >= 1:\n",
    "    x-=1\n",
    "    if x == 6:\n",
    "        print(\"Terminates the loop\")\n",
    "        break\n",
    "    print (x)\n",
    "    "
   ]
  },
  {
   "cell_type": "code",
   "execution_count": null,
   "metadata": {},
   "outputs": [],
   "source": [
    "#continue used to Skip only the current iteration then continue in while loop\n",
    "i = 10\n",
    "while i > 1:\n",
    "    i-=1\n",
    "    if i == 6:\n",
    "        print(\"Skip this iteration\")\n",
    "        continue\n",
    "    print(i)"
   ]
  },
  {
   "cell_type": "markdown",
   "metadata": {},
   "source": [
    "## Functions"
   ]
  },
  {
   "cell_type": "code",
   "execution_count": null,
   "metadata": {},
   "outputs": [],
   "source": [
    "# create custom function (arguments)\n",
    "def fun1(x,y):\n",
    "    total=x+y\n",
    "    print(total)\n",
    "fun1(10,20) #calling the function (parameters)"
   ]
  },
  {
   "cell_type": "code",
   "execution_count": null,
   "metadata": {},
   "outputs": [],
   "source": [
    "def numbers(num):\n",
    "    list1=[]#create empty list\n",
    "    for i in range(num):\n",
    "        list1.append(i)\n",
    "    return list1\n",
    "numbers(5)"
   ]
  }
 ],
 "metadata": {
  "kernelspec": {
   "display_name": "Python 3 (ipykernel)",
   "language": "python",
   "name": "python3"
  },
  "language_info": {
   "codemirror_mode": {
    "name": "ipython",
    "version": 3
   },
   "file_extension": ".py",
   "mimetype": "text/x-python",
   "name": "python",
   "nbconvert_exporter": "python",
   "pygments_lexer": "ipython3",
   "version": "3.9.12"
  }
 },
 "nbformat": 4,
 "nbformat_minor": 4
}
